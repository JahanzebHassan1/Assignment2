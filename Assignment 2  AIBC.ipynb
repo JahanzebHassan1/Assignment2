{
 "cells": [
  {
   "cell_type": "code",
   "execution_count": 305,
   "id": "38c90fbd",
   "metadata": {},
   "outputs": [],
   "source": [
    "# Jahanzeb Hassan"
   ]
  },
  {
   "cell_type": "code",
   "execution_count": 306,
   "id": "f646c974",
   "metadata": {},
   "outputs": [],
   "source": [
    "import numpy as np\n",
    "import pandas as pd\n",
    "import matplotlib.pyplot as plt"
   ]
  },
  {
   "cell_type": "code",
   "execution_count": 307,
   "id": "214942d2",
   "metadata": {},
   "outputs": [
    {
     "name": "stdout",
     "output_type": "stream",
     "text": [
      "[-7  2 10 45 59 68 73]\n",
      "The index of the minimum value is (array([0], dtype=int64),)\n",
      "The index of the maximum value is (array([6], dtype=int64),)\n"
     ]
    }
   ],
   "source": [
    "arr = np.array([2, 10, 73, 45, 59, 68, -7])\n",
    "arr.sort()\n",
    "print(arr)\n",
    "x = np.where(arr == -7)\n",
    "print(\"The index of the minimum value is\",x)\n",
    "y = np.where(arr == 73)\n",
    "print(\"The index of the maximum value is\",y)"
   ]
  },
  {
   "cell_type": "code",
   "execution_count": 308,
   "id": "ea7964e5",
   "metadata": {},
   "outputs": [
    {
     "name": "stdout",
     "output_type": "stream",
     "text": [
      "The modified array comes out to be [ 2 -1 -1  8  4 -1  6]\n"
     ]
    }
   ],
   "source": [
    "def ModifiedArray(Input_Array):\n",
    "    Input_Array =np.array(Input_Array)\n",
    "    Input_Array[Input_Array%2==1]=-1\n",
    "    Output_Array=Input_Array\n",
    "    print(\"The modified array comes out to be\",Output_Array)\n",
    "\n",
    "ModifiedArray([2, 7, 1, 8, 4, 3, 6])"
   ]
  },
  {
   "cell_type": "code",
   "execution_count": 309,
   "id": "cdec5177",
   "metadata": {},
   "outputs": [
    {
     "name": "stdout",
     "output_type": "stream",
     "text": [
      "Shape of a cube is (3, 3, 3)\n",
      "Maximum number in a cube is 27\n",
      "Position of maximum number in a cube is (array([2], dtype=int64), array([2], dtype=int64), array([2], dtype=int64))\n"
     ]
    }
   ],
   "source": [
    "def Array (array_1):\n",
    "    a =np.array(array_1)\n",
    "    c=a.shape\n",
    "    print(\"Shape of a cube is\",c)\n",
    "    t=a.max()\n",
    "    print(\"Maximum number in a cube is\",t)\n",
    "    a = np.where(a==t)\n",
    "    return (print(\"Position of maximum number in a cube is\",a))\n",
    "\n",
    "Array([[[1,2,3],[4,5,6],[7,8,9]],[[10,11,12],[13,14,15],[16,17,18]],[[19,20,21],[22,23,24],[25,26,27]]])\n"
   ]
  },
  {
   "cell_type": "code",
   "execution_count": 310,
   "id": "d03d11b3",
   "metadata": {},
   "outputs": [],
   "source": [
    "# Python numpy.zeros() function returns a new array of given shape and type, where the element’s value as 0."
   ]
  },
  {
   "cell_type": "code",
   "execution_count": 311,
   "id": "2789dcc7",
   "metadata": {},
   "outputs": [
    {
     "name": "stdout",
     "output_type": "stream",
     "text": [
      "The element at second row and third column comes out to be 6\n"
     ]
    }
   ],
   "source": [
    "my_array = np.array([[1,2,3],[4,5,6],[7,8,9],[10,11,12]])\n",
    "print(\"The element at second row and third column comes out to be\",my_array[1,2])"
   ]
  },
  {
   "cell_type": "code",
   "execution_count": 312,
   "id": "0433d0e3",
   "metadata": {},
   "outputs": [
    {
     "name": "stdout",
     "output_type": "stream",
     "text": [
      "The sum of all elements in the arr array comes out to be 78\n"
     ]
    }
   ],
   "source": [
    "arr =np.array([[1,2,3],[4,5,6],[7,8,9],[10,11,12]])\n",
    "print(\"The sum of all elements in the arr array comes out to be\",arr.sum())"
   ]
  },
  {
   "cell_type": "code",
   "execution_count": 313,
   "id": "71a96cdf",
   "metadata": {},
   "outputs": [
    {
     "name": "stdout",
     "output_type": "stream",
     "text": [
      "The result matrix comes out to be\n"
     ]
    },
    {
     "data": {
      "text/plain": [
       "array([[11, 22, 33],\n",
       "       [14, 25, 36],\n",
       "       [17, 28, 39]])"
      ]
     },
     "execution_count": 313,
     "metadata": {},
     "output_type": "execute_result"
    }
   ],
   "source": [
    "def Matrix (matrix):\n",
    "    matrix = np.array(matrix)\n",
    "    vector =np.array([10,20,30])\n",
    "    result = matrix + vector\n",
    "    print(\"The result matrix comes out to be\")\n",
    "    return result\n",
    "\n",
    "Matrix([[1,2,3],[4,5,6],[7,8,9]])"
   ]
  },
  {
   "cell_type": "code",
   "execution_count": 314,
   "id": "f80140ef",
   "metadata": {},
   "outputs": [
    {
     "name": "stdout",
     "output_type": "stream",
     "text": [
      "After concatenating the array vertically\n",
      " [[1 2]\n",
      " [3 4]\n",
      " [5 6]]\n"
     ]
    }
   ],
   "source": [
    "a = np.array([[1, 2],[3, 4]]) \n",
    "b = np.array([[5, 6]])\n",
    "# Concatenating arrays along axis 0 (vertically)\n",
    "result = np.concatenate((a, b), axis=0)\n",
    "print(\"After concatenating the array vertically\\n\", result)"
   ]
  },
  {
   "cell_type": "code",
   "execution_count": 315,
   "id": "c85940a1",
   "metadata": {},
   "outputs": [
    {
     "name": "stdout",
     "output_type": "stream",
     "text": [
      "Iterating through each element through for loop\n",
      "1\n",
      "2\n",
      "3\n",
      "4\n",
      "5\n",
      "6\n",
      "7\n",
      "8\n",
      "9\n"
     ]
    }
   ],
   "source": [
    "a =np.array([1,2,3,4,5,6,7,8,9])\n",
    "print(\"Iterating through each element through for loop\")\n",
    "for i in a:\n",
    "    print(i)\n"
   ]
  },
  {
   "cell_type": "code",
   "execution_count": 316,
   "id": "4833f424",
   "metadata": {},
   "outputs": [
    {
     "name": "stdout",
     "output_type": "stream",
     "text": [
      "The mean value of each row in 2D matrix comes out to be [2. 5. 8.]\n"
     ]
    }
   ],
   "source": [
    "a = np.array([[1,2,3],[4,5,6],[7,8,9]])\n",
    "b=a.mean(axis=1)\n",
    "print(\"The mean value of each row in 2D matrix comes out to be\", b)"
   ]
  },
  {
   "cell_type": "code",
   "execution_count": 317,
   "id": "60c5591e",
   "metadata": {},
   "outputs": [
    {
     "name": "stdout",
     "output_type": "stream",
     "text": [
      "The count of numbers above 90 are 4\n"
     ]
    }
   ],
   "source": [
    "NumPy =np.array([70,77,80,85,90,92,99,90,99,93])\n",
    "count=0\n",
    "for i in NumPy:\n",
    "    if i>90:\n",
    "        count+=1\n",
    "print(\"The count of numbers above 90 are\", count)"
   ]
  },
  {
   "cell_type": "code",
   "execution_count": 318,
   "id": "a8a14a45",
   "metadata": {},
   "outputs": [
    {
     "name": "stdout",
     "output_type": "stream",
     "text": [
      "[ 2  7 91 56 28 16 96  2 80 67 23 42 39  3 59 18  1 34 11 52]\n",
      "The median value of 20 random integers between 1 and 100 is 31.0\n"
     ]
    }
   ],
   "source": [
    "import numpy as np\n",
    "from numpy import random\n",
    "x=np.random.randint(1,100, size=20)\n",
    "print(x)\n",
    "m=np.median(x)\n",
    "print(\"The median value of 20 random integers between 1 and 100 is\", m)"
   ]
  },
  {
   "cell_type": "code",
   "execution_count": 319,
   "id": "af26c91f",
   "metadata": {},
   "outputs": [
    {
     "name": "stdout",
     "output_type": "stream",
     "text": [
      "The panda series of the a_list is\n"
     ]
    },
    {
     "data": {
      "text/plain": [
       "0    a\n",
       "1    b\n",
       "2    c\n",
       "3    d\n",
       "4    e\n",
       "5    f\n",
       "6    g\n",
       "dtype: object"
      ]
     },
     "execution_count": 319,
     "metadata": {},
     "output_type": "execute_result"
    }
   ],
   "source": [
    "a_list = list('abcdefg')\n",
    "df = pd.Series(a_list)\n",
    "print(\"The panda series of the a_list is\")\n",
    "df"
   ]
  },
  {
   "cell_type": "code",
   "execution_count": 320,
   "id": "d8597b04",
   "metadata": {},
   "outputs": [
    {
     "name": "stdout",
     "output_type": "stream",
     "text": [
      "The panda series of the numpy_array is\n"
     ]
    },
    {
     "data": {
      "text/plain": [
       "0    1\n",
       "1    2\n",
       "2    3\n",
       "3    4\n",
       "4    5\n",
       "5    6\n",
       "6    7\n",
       "7    8\n",
       "8    9\n",
       "dtype: int32"
      ]
     },
     "execution_count": 320,
     "metadata": {},
     "output_type": "execute_result"
    }
   ],
   "source": [
    "numpy_array=np.arange(1, 10)\n",
    "df = pd.Series(numpy_array)\n",
    "print(\"The panda series of the numpy_array is\")\n",
    "df"
   ]
  },
  {
   "cell_type": "code",
   "execution_count": 321,
   "id": "6cef6f6c",
   "metadata": {},
   "outputs": [
    {
     "name": "stdout",
     "output_type": "stream",
     "text": [
      "The panda series of the dictionary is\n"
     ]
    },
    {
     "data": {
      "text/plain": [
       "A    0\n",
       "B    1\n",
       "C    2\n",
       "D    3\n",
       "E    5\n",
       "dtype: int64"
      ]
     },
     "execution_count": 321,
     "metadata": {},
     "output_type": "execute_result"
    }
   ],
   "source": [
    "dictionary = {\"A\": 0, \"B\":1, \"C\":2, \"D\":3, \"E\":5}\n",
    "df = pd.Series(dictionary)\n",
    "print(\"The panda series of the dictionary is\")\n",
    "df"
   ]
  },
  {
   "cell_type": "code",
   "execution_count": 322,
   "id": "37862413",
   "metadata": {},
   "outputs": [
    {
     "name": "stdout",
     "output_type": "stream",
     "text": [
      "The age in ascending order comes out to be\n"
     ]
    },
    {
     "data": {
      "text/html": [
       "<div>\n",
       "<style scoped>\n",
       "    .dataframe tbody tr th:only-of-type {\n",
       "        vertical-align: middle;\n",
       "    }\n",
       "\n",
       "    .dataframe tbody tr th {\n",
       "        vertical-align: top;\n",
       "    }\n",
       "\n",
       "    .dataframe thead th {\n",
       "        text-align: right;\n",
       "    }\n",
       "</style>\n",
       "<table border=\"1\" class=\"dataframe\">\n",
       "  <thead>\n",
       "    <tr style=\"text-align: right;\">\n",
       "      <th></th>\n",
       "      <th>Name</th>\n",
       "      <th>Age</th>\n",
       "      <th>Designation</th>\n",
       "    </tr>\n",
       "  </thead>\n",
       "  <tbody>\n",
       "    <tr>\n",
       "      <th>0</th>\n",
       "      <td>Peter</td>\n",
       "      <td>37</td>\n",
       "      <td>Manager</td>\n",
       "    </tr>\n",
       "    <tr>\n",
       "      <th>2</th>\n",
       "      <td>Rahul</td>\n",
       "      <td>38</td>\n",
       "      <td>Accountant</td>\n",
       "    </tr>\n",
       "    <tr>\n",
       "      <th>1</th>\n",
       "      <td>Tim</td>\n",
       "      <td>42</td>\n",
       "      <td>Clerk</td>\n",
       "    </tr>\n",
       "  </tbody>\n",
       "</table>\n",
       "</div>"
      ],
      "text/plain": [
       "    Name  Age Designation\n",
       "0  Peter   37     Manager\n",
       "2  Rahul   38  Accountant\n",
       "1    Tim   42       Clerk"
      ]
     },
     "execution_count": 322,
     "metadata": {},
     "output_type": "execute_result"
    }
   ],
   "source": [
    "df2 = pd.DataFrame({\n",
    "    \"Name\":[\"Peter\",\"Tim\",\"Rahul\"],\n",
    "    \"Age\":[37,42,38],\n",
    "    \"Designation\":[\"Manager\",\"Clerk\",\"Accountant\"]\n",
    "}, columns=['Name', 'Age', 'Designation'])\n",
    "df2\n",
    "df2=df2.sort_values(['Age'],ascending=1)\n",
    "print(\"The age in ascending order comes out to be\")\n",
    "df2"
   ]
  },
  {
   "cell_type": "code",
   "execution_count": 323,
   "id": "fc11a8a7",
   "metadata": {},
   "outputs": [
    {
     "name": "stdout",
     "output_type": "stream",
     "text": [
      "       type  price  mpg_city drive_train  passengers  weight\n",
      "0     small   15.9        25       front           5    2705\n",
      "1   midsize   33.9        18       front           5    3560\n",
      "2   midsize   37.7        19       front           6    3405\n",
      "3   midsize   30.0        22        rear           4    3640\n",
      "4   midsize   15.7        22       front           6    2880\n",
      "5     large   20.8        19       front           6    3470\n",
      "6     large   23.7        16        rear           6    4105\n",
      "7   midsize   26.3        19       front           5    3495\n",
      "8     large   34.7        16       front           6    3620\n",
      "9   midsize   40.1        16       front           5    3935\n",
      "10  midsize   15.9        21       front           6    3195\n",
      "11    large   18.8        17        rear           6    3910\n",
      "12    large   18.4        20       front           6    3515\n",
      "13    large   29.5        20       front           6    3570\n",
      "14    small    9.2        29       front           5    2270\n",
      "15    small   11.3        23       front           5    2670\n",
      "16  midsize   15.6        21       front           6    3080\n",
      "17    small   12.2        29       front           5    2295\n",
      "18    large   19.3        20       front           6    3490\n",
      "19    small    7.4        31       front           4    1845\n",
      "20    small   10.1        23       front           5    2530\n",
      "21  midsize   20.2        21       front           5    3325\n",
      "22    large   20.9        18        rear           6    3950\n",
      "23    small    8.4        46       front           4    1695\n",
      "24    small   12.1        42       front           4    2350\n",
      "25    small    8.0        29       front           5    2345\n",
      "26    small   10.0        22       front           5    2620\n",
      "27  midsize   13.9        20       front           5    2885\n",
      "28  midsize   47.9        17        rear           5    4000\n",
      "29  midsize   28.0        18       front           5    3510\n",
      "30  midsize   35.2        18        rear           4    3515\n",
      "31  midsize   34.3        17       front           6    3695\n",
      "32    large   36.1        18        rear           6    4055\n",
      "33    small    8.3        29       front           4    2325\n",
      "34    small   11.6        28       front           5    2440\n",
      "35  midsize   61.9        19        rear           5    3525\n",
      "36  midsize   14.9        19        rear           5    3610\n",
      "37    small   10.3        29       front           5    2295\n",
      "38  midsize   26.1        18       front           5    3730\n",
      "39    small   11.8        29       front           5    2545\n",
      "40  midsize   21.5        21       front           5    3200\n",
      "41  midsize   16.3        23       front           5    2890\n",
      "42    large   20.7        19       front           6    3470\n",
      "43    small    9.0        31       front           4    2350\n",
      "44  midsize   18.5        19       front           5    3450\n",
      "45    large   24.4        19       front           6    3495\n",
      "46    small   11.1        28       front           5    2495\n",
      "47    small    8.4        33         4WD           4    2045\n",
      "48    small   10.9        25         4WD           5    2490\n",
      "49    small    8.6        39       front           4    1965\n",
      "50    small    9.8        32       front           5    2055\n",
      "51  midsize   18.2        22       front           5    3030\n",
      "52    small    9.1        25       front           4    2240\n",
      "53  midsize   26.7        20       front           5    3245\n"
     ]
    }
   ],
   "source": [
    "data = pd.read_csv(\"cars.csv\")\n",
    "print(data)"
   ]
  },
  {
   "cell_type": "code",
   "execution_count": 324,
   "id": "55f4dd89",
   "metadata": {},
   "outputs": [
    {
     "data": {
      "text/html": [
       "<div>\n",
       "<style scoped>\n",
       "    .dataframe tbody tr th:only-of-type {\n",
       "        vertical-align: middle;\n",
       "    }\n",
       "\n",
       "    .dataframe tbody tr th {\n",
       "        vertical-align: top;\n",
       "    }\n",
       "\n",
       "    .dataframe thead th {\n",
       "        text-align: right;\n",
       "    }\n",
       "</style>\n",
       "<table border=\"1\" class=\"dataframe\">\n",
       "  <thead>\n",
       "    <tr style=\"text-align: right;\">\n",
       "      <th></th>\n",
       "      <th>type</th>\n",
       "      <th>price</th>\n",
       "      <th>mpg_city</th>\n",
       "      <th>drive_train</th>\n",
       "      <th>passengers</th>\n",
       "      <th>weight</th>\n",
       "    </tr>\n",
       "  </thead>\n",
       "  <tbody>\n",
       "    <tr>\n",
       "      <th>0</th>\n",
       "      <td>small</td>\n",
       "      <td>15.9</td>\n",
       "      <td>25</td>\n",
       "      <td>front</td>\n",
       "      <td>5</td>\n",
       "      <td>2705</td>\n",
       "    </tr>\n",
       "    <tr>\n",
       "      <th>1</th>\n",
       "      <td>midsize</td>\n",
       "      <td>33.9</td>\n",
       "      <td>18</td>\n",
       "      <td>front</td>\n",
       "      <td>5</td>\n",
       "      <td>3560</td>\n",
       "    </tr>\n",
       "    <tr>\n",
       "      <th>2</th>\n",
       "      <td>midsize</td>\n",
       "      <td>37.7</td>\n",
       "      <td>19</td>\n",
       "      <td>front</td>\n",
       "      <td>6</td>\n",
       "      <td>3405</td>\n",
       "    </tr>\n",
       "    <tr>\n",
       "      <th>3</th>\n",
       "      <td>midsize</td>\n",
       "      <td>30.0</td>\n",
       "      <td>22</td>\n",
       "      <td>rear</td>\n",
       "      <td>4</td>\n",
       "      <td>3640</td>\n",
       "    </tr>\n",
       "    <tr>\n",
       "      <th>4</th>\n",
       "      <td>midsize</td>\n",
       "      <td>15.7</td>\n",
       "      <td>22</td>\n",
       "      <td>front</td>\n",
       "      <td>6</td>\n",
       "      <td>2880</td>\n",
       "    </tr>\n",
       "  </tbody>\n",
       "</table>\n",
       "</div>"
      ],
      "text/plain": [
       "      type  price  mpg_city drive_train  passengers  weight\n",
       "0    small   15.9        25       front           5    2705\n",
       "1  midsize   33.9        18       front           5    3560\n",
       "2  midsize   37.7        19       front           6    3405\n",
       "3  midsize   30.0        22        rear           4    3640\n",
       "4  midsize   15.7        22       front           6    2880"
      ]
     },
     "execution_count": 324,
     "metadata": {},
     "output_type": "execute_result"
    }
   ],
   "source": [
    "data.head()"
   ]
  },
  {
   "cell_type": "code",
   "execution_count": 325,
   "id": "cfdbad1d",
   "metadata": {},
   "outputs": [
    {
     "data": {
      "text/html": [
       "<div>\n",
       "<style scoped>\n",
       "    .dataframe tbody tr th:only-of-type {\n",
       "        vertical-align: middle;\n",
       "    }\n",
       "\n",
       "    .dataframe tbody tr th {\n",
       "        vertical-align: top;\n",
       "    }\n",
       "\n",
       "    .dataframe thead th {\n",
       "        text-align: right;\n",
       "    }\n",
       "</style>\n",
       "<table border=\"1\" class=\"dataframe\">\n",
       "  <thead>\n",
       "    <tr style=\"text-align: right;\">\n",
       "      <th></th>\n",
       "      <th>type</th>\n",
       "      <th>price</th>\n",
       "      <th>mpg_city</th>\n",
       "      <th>drive_train</th>\n",
       "      <th>passengers</th>\n",
       "      <th>weight</th>\n",
       "    </tr>\n",
       "  </thead>\n",
       "  <tbody>\n",
       "    <tr>\n",
       "      <th>49</th>\n",
       "      <td>small</td>\n",
       "      <td>8.6</td>\n",
       "      <td>39</td>\n",
       "      <td>front</td>\n",
       "      <td>4</td>\n",
       "      <td>1965</td>\n",
       "    </tr>\n",
       "    <tr>\n",
       "      <th>50</th>\n",
       "      <td>small</td>\n",
       "      <td>9.8</td>\n",
       "      <td>32</td>\n",
       "      <td>front</td>\n",
       "      <td>5</td>\n",
       "      <td>2055</td>\n",
       "    </tr>\n",
       "    <tr>\n",
       "      <th>51</th>\n",
       "      <td>midsize</td>\n",
       "      <td>18.2</td>\n",
       "      <td>22</td>\n",
       "      <td>front</td>\n",
       "      <td>5</td>\n",
       "      <td>3030</td>\n",
       "    </tr>\n",
       "    <tr>\n",
       "      <th>52</th>\n",
       "      <td>small</td>\n",
       "      <td>9.1</td>\n",
       "      <td>25</td>\n",
       "      <td>front</td>\n",
       "      <td>4</td>\n",
       "      <td>2240</td>\n",
       "    </tr>\n",
       "    <tr>\n",
       "      <th>53</th>\n",
       "      <td>midsize</td>\n",
       "      <td>26.7</td>\n",
       "      <td>20</td>\n",
       "      <td>front</td>\n",
       "      <td>5</td>\n",
       "      <td>3245</td>\n",
       "    </tr>\n",
       "  </tbody>\n",
       "</table>\n",
       "</div>"
      ],
      "text/plain": [
       "       type  price  mpg_city drive_train  passengers  weight\n",
       "49    small    8.6        39       front           4    1965\n",
       "50    small    9.8        32       front           5    2055\n",
       "51  midsize   18.2        22       front           5    3030\n",
       "52    small    9.1        25       front           4    2240\n",
       "53  midsize   26.7        20       front           5    3245"
      ]
     },
     "execution_count": 325,
     "metadata": {},
     "output_type": "execute_result"
    }
   ],
   "source": [
    "data.tail()"
   ]
  },
  {
   "cell_type": "code",
   "execution_count": 326,
   "id": "58c432fc",
   "metadata": {},
   "outputs": [
    {
     "name": "stdout",
     "output_type": "stream",
     "text": [
      "<class 'pandas.core.frame.DataFrame'>\n",
      "RangeIndex: 54 entries, 0 to 53\n",
      "Data columns (total 6 columns):\n",
      " #   Column       Non-Null Count  Dtype  \n",
      "---  ------       --------------  -----  \n",
      " 0   type         54 non-null     object \n",
      " 1   price        54 non-null     float64\n",
      " 2   mpg_city     54 non-null     int64  \n",
      " 3   drive_train  54 non-null     object \n",
      " 4   passengers   54 non-null     int64  \n",
      " 5   weight       54 non-null     int64  \n",
      "dtypes: float64(1), int64(3), object(2)\n",
      "memory usage: 2.7+ KB\n"
     ]
    }
   ],
   "source": [
    "data.info()"
   ]
  },
  {
   "cell_type": "code",
   "execution_count": 327,
   "id": "dc288ffe",
   "metadata": {},
   "outputs": [
    {
     "data": {
      "text/plain": [
       "Index(['type', 'price', 'mpg_city', 'drive_train', 'passengers', 'weight'], dtype='object')"
      ]
     },
     "execution_count": 327,
     "metadata": {},
     "output_type": "execute_result"
    }
   ],
   "source": [
    "data.columns"
   ]
  },
  {
   "cell_type": "code",
   "execution_count": 328,
   "id": "29e1e666",
   "metadata": {},
   "outputs": [
    {
     "data": {
      "text/html": [
       "<div>\n",
       "<style scoped>\n",
       "    .dataframe tbody tr th:only-of-type {\n",
       "        vertical-align: middle;\n",
       "    }\n",
       "\n",
       "    .dataframe tbody tr th {\n",
       "        vertical-align: top;\n",
       "    }\n",
       "\n",
       "    .dataframe thead th {\n",
       "        text-align: right;\n",
       "    }\n",
       "</style>\n",
       "<table border=\"1\" class=\"dataframe\">\n",
       "  <thead>\n",
       "    <tr style=\"text-align: right;\">\n",
       "      <th></th>\n",
       "      <th>price</th>\n",
       "      <th>mpg_city</th>\n",
       "      <th>passengers</th>\n",
       "      <th>weight</th>\n",
       "    </tr>\n",
       "  </thead>\n",
       "  <tbody>\n",
       "    <tr>\n",
       "      <th>count</th>\n",
       "      <td>54.000000</td>\n",
       "      <td>54.000000</td>\n",
       "      <td>54.000000</td>\n",
       "      <td>54.000000</td>\n",
       "    </tr>\n",
       "    <tr>\n",
       "      <th>mean</th>\n",
       "      <td>19.992593</td>\n",
       "      <td>23.314815</td>\n",
       "      <td>5.111111</td>\n",
       "      <td>3037.407407</td>\n",
       "    </tr>\n",
       "    <tr>\n",
       "      <th>std</th>\n",
       "      <td>11.506452</td>\n",
       "      <td>6.624210</td>\n",
       "      <td>0.691366</td>\n",
       "      <td>657.664350</td>\n",
       "    </tr>\n",
       "    <tr>\n",
       "      <th>min</th>\n",
       "      <td>7.400000</td>\n",
       "      <td>16.000000</td>\n",
       "      <td>4.000000</td>\n",
       "      <td>1695.000000</td>\n",
       "    </tr>\n",
       "    <tr>\n",
       "      <th>25%</th>\n",
       "      <td>10.950000</td>\n",
       "      <td>19.000000</td>\n",
       "      <td>5.000000</td>\n",
       "      <td>2452.500000</td>\n",
       "    </tr>\n",
       "    <tr>\n",
       "      <th>50%</th>\n",
       "      <td>17.250000</td>\n",
       "      <td>21.000000</td>\n",
       "      <td>5.000000</td>\n",
       "      <td>3197.500000</td>\n",
       "    </tr>\n",
       "    <tr>\n",
       "      <th>75%</th>\n",
       "      <td>26.250000</td>\n",
       "      <td>28.000000</td>\n",
       "      <td>6.000000</td>\n",
       "      <td>3522.500000</td>\n",
       "    </tr>\n",
       "    <tr>\n",
       "      <th>max</th>\n",
       "      <td>61.900000</td>\n",
       "      <td>46.000000</td>\n",
       "      <td>6.000000</td>\n",
       "      <td>4105.000000</td>\n",
       "    </tr>\n",
       "  </tbody>\n",
       "</table>\n",
       "</div>"
      ],
      "text/plain": [
       "           price   mpg_city  passengers       weight\n",
       "count  54.000000  54.000000   54.000000    54.000000\n",
       "mean   19.992593  23.314815    5.111111  3037.407407\n",
       "std    11.506452   6.624210    0.691366   657.664350\n",
       "min     7.400000  16.000000    4.000000  1695.000000\n",
       "25%    10.950000  19.000000    5.000000  2452.500000\n",
       "50%    17.250000  21.000000    5.000000  3197.500000\n",
       "75%    26.250000  28.000000    6.000000  3522.500000\n",
       "max    61.900000  46.000000    6.000000  4105.000000"
      ]
     },
     "execution_count": 328,
     "metadata": {},
     "output_type": "execute_result"
    }
   ],
   "source": [
    "data.describe()"
   ]
  },
  {
   "cell_type": "code",
   "execution_count": 329,
   "id": "97c644cd",
   "metadata": {},
   "outputs": [
    {
     "data": {
      "text/html": [
       "<div>\n",
       "<style scoped>\n",
       "    .dataframe tbody tr th:only-of-type {\n",
       "        vertical-align: middle;\n",
       "    }\n",
       "\n",
       "    .dataframe tbody tr th {\n",
       "        vertical-align: top;\n",
       "    }\n",
       "\n",
       "    .dataframe thead th {\n",
       "        text-align: right;\n",
       "    }\n",
       "</style>\n",
       "<table border=\"1\" class=\"dataframe\">\n",
       "  <thead>\n",
       "    <tr style=\"text-align: right;\">\n",
       "      <th></th>\n",
       "      <th>type</th>\n",
       "      <th>price</th>\n",
       "      <th>mpg_city</th>\n",
       "      <th>drive_train</th>\n",
       "      <th>passengers</th>\n",
       "      <th>weight</th>\n",
       "    </tr>\n",
       "  </thead>\n",
       "  <tbody>\n",
       "    <tr>\n",
       "      <th>0</th>\n",
       "      <td>False</td>\n",
       "      <td>False</td>\n",
       "      <td>False</td>\n",
       "      <td>False</td>\n",
       "      <td>False</td>\n",
       "      <td>False</td>\n",
       "    </tr>\n",
       "    <tr>\n",
       "      <th>1</th>\n",
       "      <td>False</td>\n",
       "      <td>False</td>\n",
       "      <td>False</td>\n",
       "      <td>False</td>\n",
       "      <td>False</td>\n",
       "      <td>False</td>\n",
       "    </tr>\n",
       "    <tr>\n",
       "      <th>2</th>\n",
       "      <td>False</td>\n",
       "      <td>False</td>\n",
       "      <td>False</td>\n",
       "      <td>False</td>\n",
       "      <td>False</td>\n",
       "      <td>False</td>\n",
       "    </tr>\n",
       "    <tr>\n",
       "      <th>3</th>\n",
       "      <td>False</td>\n",
       "      <td>False</td>\n",
       "      <td>False</td>\n",
       "      <td>False</td>\n",
       "      <td>False</td>\n",
       "      <td>False</td>\n",
       "    </tr>\n",
       "    <tr>\n",
       "      <th>4</th>\n",
       "      <td>False</td>\n",
       "      <td>False</td>\n",
       "      <td>False</td>\n",
       "      <td>False</td>\n",
       "      <td>False</td>\n",
       "      <td>False</td>\n",
       "    </tr>\n",
       "    <tr>\n",
       "      <th>5</th>\n",
       "      <td>False</td>\n",
       "      <td>False</td>\n",
       "      <td>False</td>\n",
       "      <td>False</td>\n",
       "      <td>False</td>\n",
       "      <td>False</td>\n",
       "    </tr>\n",
       "    <tr>\n",
       "      <th>6</th>\n",
       "      <td>False</td>\n",
       "      <td>False</td>\n",
       "      <td>False</td>\n",
       "      <td>False</td>\n",
       "      <td>False</td>\n",
       "      <td>False</td>\n",
       "    </tr>\n",
       "    <tr>\n",
       "      <th>7</th>\n",
       "      <td>False</td>\n",
       "      <td>False</td>\n",
       "      <td>False</td>\n",
       "      <td>False</td>\n",
       "      <td>False</td>\n",
       "      <td>False</td>\n",
       "    </tr>\n",
       "    <tr>\n",
       "      <th>8</th>\n",
       "      <td>False</td>\n",
       "      <td>False</td>\n",
       "      <td>False</td>\n",
       "      <td>False</td>\n",
       "      <td>False</td>\n",
       "      <td>False</td>\n",
       "    </tr>\n",
       "    <tr>\n",
       "      <th>9</th>\n",
       "      <td>False</td>\n",
       "      <td>False</td>\n",
       "      <td>False</td>\n",
       "      <td>False</td>\n",
       "      <td>False</td>\n",
       "      <td>False</td>\n",
       "    </tr>\n",
       "    <tr>\n",
       "      <th>10</th>\n",
       "      <td>False</td>\n",
       "      <td>False</td>\n",
       "      <td>False</td>\n",
       "      <td>False</td>\n",
       "      <td>False</td>\n",
       "      <td>False</td>\n",
       "    </tr>\n",
       "    <tr>\n",
       "      <th>11</th>\n",
       "      <td>False</td>\n",
       "      <td>False</td>\n",
       "      <td>False</td>\n",
       "      <td>False</td>\n",
       "      <td>False</td>\n",
       "      <td>False</td>\n",
       "    </tr>\n",
       "    <tr>\n",
       "      <th>12</th>\n",
       "      <td>False</td>\n",
       "      <td>False</td>\n",
       "      <td>False</td>\n",
       "      <td>False</td>\n",
       "      <td>False</td>\n",
       "      <td>False</td>\n",
       "    </tr>\n",
       "    <tr>\n",
       "      <th>13</th>\n",
       "      <td>False</td>\n",
       "      <td>False</td>\n",
       "      <td>False</td>\n",
       "      <td>False</td>\n",
       "      <td>False</td>\n",
       "      <td>False</td>\n",
       "    </tr>\n",
       "    <tr>\n",
       "      <th>14</th>\n",
       "      <td>False</td>\n",
       "      <td>False</td>\n",
       "      <td>False</td>\n",
       "      <td>False</td>\n",
       "      <td>False</td>\n",
       "      <td>False</td>\n",
       "    </tr>\n",
       "    <tr>\n",
       "      <th>15</th>\n",
       "      <td>False</td>\n",
       "      <td>False</td>\n",
       "      <td>False</td>\n",
       "      <td>False</td>\n",
       "      <td>False</td>\n",
       "      <td>False</td>\n",
       "    </tr>\n",
       "    <tr>\n",
       "      <th>16</th>\n",
       "      <td>False</td>\n",
       "      <td>False</td>\n",
       "      <td>False</td>\n",
       "      <td>False</td>\n",
       "      <td>False</td>\n",
       "      <td>False</td>\n",
       "    </tr>\n",
       "    <tr>\n",
       "      <th>17</th>\n",
       "      <td>False</td>\n",
       "      <td>False</td>\n",
       "      <td>False</td>\n",
       "      <td>False</td>\n",
       "      <td>False</td>\n",
       "      <td>False</td>\n",
       "    </tr>\n",
       "    <tr>\n",
       "      <th>18</th>\n",
       "      <td>False</td>\n",
       "      <td>False</td>\n",
       "      <td>False</td>\n",
       "      <td>False</td>\n",
       "      <td>False</td>\n",
       "      <td>False</td>\n",
       "    </tr>\n",
       "    <tr>\n",
       "      <th>19</th>\n",
       "      <td>False</td>\n",
       "      <td>False</td>\n",
       "      <td>False</td>\n",
       "      <td>False</td>\n",
       "      <td>False</td>\n",
       "      <td>False</td>\n",
       "    </tr>\n",
       "    <tr>\n",
       "      <th>20</th>\n",
       "      <td>False</td>\n",
       "      <td>False</td>\n",
       "      <td>False</td>\n",
       "      <td>False</td>\n",
       "      <td>False</td>\n",
       "      <td>False</td>\n",
       "    </tr>\n",
       "    <tr>\n",
       "      <th>21</th>\n",
       "      <td>False</td>\n",
       "      <td>False</td>\n",
       "      <td>False</td>\n",
       "      <td>False</td>\n",
       "      <td>False</td>\n",
       "      <td>False</td>\n",
       "    </tr>\n",
       "    <tr>\n",
       "      <th>22</th>\n",
       "      <td>False</td>\n",
       "      <td>False</td>\n",
       "      <td>False</td>\n",
       "      <td>False</td>\n",
       "      <td>False</td>\n",
       "      <td>False</td>\n",
       "    </tr>\n",
       "    <tr>\n",
       "      <th>23</th>\n",
       "      <td>False</td>\n",
       "      <td>False</td>\n",
       "      <td>False</td>\n",
       "      <td>False</td>\n",
       "      <td>False</td>\n",
       "      <td>False</td>\n",
       "    </tr>\n",
       "    <tr>\n",
       "      <th>24</th>\n",
       "      <td>False</td>\n",
       "      <td>False</td>\n",
       "      <td>False</td>\n",
       "      <td>False</td>\n",
       "      <td>False</td>\n",
       "      <td>False</td>\n",
       "    </tr>\n",
       "    <tr>\n",
       "      <th>25</th>\n",
       "      <td>False</td>\n",
       "      <td>False</td>\n",
       "      <td>False</td>\n",
       "      <td>False</td>\n",
       "      <td>False</td>\n",
       "      <td>False</td>\n",
       "    </tr>\n",
       "    <tr>\n",
       "      <th>26</th>\n",
       "      <td>False</td>\n",
       "      <td>False</td>\n",
       "      <td>False</td>\n",
       "      <td>False</td>\n",
       "      <td>False</td>\n",
       "      <td>False</td>\n",
       "    </tr>\n",
       "    <tr>\n",
       "      <th>27</th>\n",
       "      <td>False</td>\n",
       "      <td>False</td>\n",
       "      <td>False</td>\n",
       "      <td>False</td>\n",
       "      <td>False</td>\n",
       "      <td>False</td>\n",
       "    </tr>\n",
       "    <tr>\n",
       "      <th>28</th>\n",
       "      <td>False</td>\n",
       "      <td>False</td>\n",
       "      <td>False</td>\n",
       "      <td>False</td>\n",
       "      <td>False</td>\n",
       "      <td>False</td>\n",
       "    </tr>\n",
       "    <tr>\n",
       "      <th>29</th>\n",
       "      <td>False</td>\n",
       "      <td>False</td>\n",
       "      <td>False</td>\n",
       "      <td>False</td>\n",
       "      <td>False</td>\n",
       "      <td>False</td>\n",
       "    </tr>\n",
       "    <tr>\n",
       "      <th>30</th>\n",
       "      <td>False</td>\n",
       "      <td>False</td>\n",
       "      <td>False</td>\n",
       "      <td>False</td>\n",
       "      <td>False</td>\n",
       "      <td>False</td>\n",
       "    </tr>\n",
       "    <tr>\n",
       "      <th>31</th>\n",
       "      <td>False</td>\n",
       "      <td>False</td>\n",
       "      <td>False</td>\n",
       "      <td>False</td>\n",
       "      <td>False</td>\n",
       "      <td>False</td>\n",
       "    </tr>\n",
       "    <tr>\n",
       "      <th>32</th>\n",
       "      <td>False</td>\n",
       "      <td>False</td>\n",
       "      <td>False</td>\n",
       "      <td>False</td>\n",
       "      <td>False</td>\n",
       "      <td>False</td>\n",
       "    </tr>\n",
       "    <tr>\n",
       "      <th>33</th>\n",
       "      <td>False</td>\n",
       "      <td>False</td>\n",
       "      <td>False</td>\n",
       "      <td>False</td>\n",
       "      <td>False</td>\n",
       "      <td>False</td>\n",
       "    </tr>\n",
       "    <tr>\n",
       "      <th>34</th>\n",
       "      <td>False</td>\n",
       "      <td>False</td>\n",
       "      <td>False</td>\n",
       "      <td>False</td>\n",
       "      <td>False</td>\n",
       "      <td>False</td>\n",
       "    </tr>\n",
       "    <tr>\n",
       "      <th>35</th>\n",
       "      <td>False</td>\n",
       "      <td>False</td>\n",
       "      <td>False</td>\n",
       "      <td>False</td>\n",
       "      <td>False</td>\n",
       "      <td>False</td>\n",
       "    </tr>\n",
       "    <tr>\n",
       "      <th>36</th>\n",
       "      <td>False</td>\n",
       "      <td>False</td>\n",
       "      <td>False</td>\n",
       "      <td>False</td>\n",
       "      <td>False</td>\n",
       "      <td>False</td>\n",
       "    </tr>\n",
       "    <tr>\n",
       "      <th>37</th>\n",
       "      <td>False</td>\n",
       "      <td>False</td>\n",
       "      <td>False</td>\n",
       "      <td>False</td>\n",
       "      <td>False</td>\n",
       "      <td>False</td>\n",
       "    </tr>\n",
       "    <tr>\n",
       "      <th>38</th>\n",
       "      <td>False</td>\n",
       "      <td>False</td>\n",
       "      <td>False</td>\n",
       "      <td>False</td>\n",
       "      <td>False</td>\n",
       "      <td>False</td>\n",
       "    </tr>\n",
       "    <tr>\n",
       "      <th>39</th>\n",
       "      <td>False</td>\n",
       "      <td>False</td>\n",
       "      <td>False</td>\n",
       "      <td>False</td>\n",
       "      <td>False</td>\n",
       "      <td>False</td>\n",
       "    </tr>\n",
       "    <tr>\n",
       "      <th>40</th>\n",
       "      <td>False</td>\n",
       "      <td>False</td>\n",
       "      <td>False</td>\n",
       "      <td>False</td>\n",
       "      <td>False</td>\n",
       "      <td>False</td>\n",
       "    </tr>\n",
       "    <tr>\n",
       "      <th>41</th>\n",
       "      <td>False</td>\n",
       "      <td>False</td>\n",
       "      <td>False</td>\n",
       "      <td>False</td>\n",
       "      <td>False</td>\n",
       "      <td>False</td>\n",
       "    </tr>\n",
       "    <tr>\n",
       "      <th>42</th>\n",
       "      <td>False</td>\n",
       "      <td>False</td>\n",
       "      <td>False</td>\n",
       "      <td>False</td>\n",
       "      <td>False</td>\n",
       "      <td>False</td>\n",
       "    </tr>\n",
       "    <tr>\n",
       "      <th>43</th>\n",
       "      <td>False</td>\n",
       "      <td>False</td>\n",
       "      <td>False</td>\n",
       "      <td>False</td>\n",
       "      <td>False</td>\n",
       "      <td>False</td>\n",
       "    </tr>\n",
       "    <tr>\n",
       "      <th>44</th>\n",
       "      <td>False</td>\n",
       "      <td>False</td>\n",
       "      <td>False</td>\n",
       "      <td>False</td>\n",
       "      <td>False</td>\n",
       "      <td>False</td>\n",
       "    </tr>\n",
       "    <tr>\n",
       "      <th>45</th>\n",
       "      <td>False</td>\n",
       "      <td>False</td>\n",
       "      <td>False</td>\n",
       "      <td>False</td>\n",
       "      <td>False</td>\n",
       "      <td>False</td>\n",
       "    </tr>\n",
       "    <tr>\n",
       "      <th>46</th>\n",
       "      <td>False</td>\n",
       "      <td>False</td>\n",
       "      <td>False</td>\n",
       "      <td>False</td>\n",
       "      <td>False</td>\n",
       "      <td>False</td>\n",
       "    </tr>\n",
       "    <tr>\n",
       "      <th>47</th>\n",
       "      <td>False</td>\n",
       "      <td>False</td>\n",
       "      <td>False</td>\n",
       "      <td>False</td>\n",
       "      <td>False</td>\n",
       "      <td>False</td>\n",
       "    </tr>\n",
       "    <tr>\n",
       "      <th>48</th>\n",
       "      <td>False</td>\n",
       "      <td>False</td>\n",
       "      <td>False</td>\n",
       "      <td>False</td>\n",
       "      <td>False</td>\n",
       "      <td>False</td>\n",
       "    </tr>\n",
       "    <tr>\n",
       "      <th>49</th>\n",
       "      <td>False</td>\n",
       "      <td>False</td>\n",
       "      <td>False</td>\n",
       "      <td>False</td>\n",
       "      <td>False</td>\n",
       "      <td>False</td>\n",
       "    </tr>\n",
       "    <tr>\n",
       "      <th>50</th>\n",
       "      <td>False</td>\n",
       "      <td>False</td>\n",
       "      <td>False</td>\n",
       "      <td>False</td>\n",
       "      <td>False</td>\n",
       "      <td>False</td>\n",
       "    </tr>\n",
       "    <tr>\n",
       "      <th>51</th>\n",
       "      <td>False</td>\n",
       "      <td>False</td>\n",
       "      <td>False</td>\n",
       "      <td>False</td>\n",
       "      <td>False</td>\n",
       "      <td>False</td>\n",
       "    </tr>\n",
       "    <tr>\n",
       "      <th>52</th>\n",
       "      <td>False</td>\n",
       "      <td>False</td>\n",
       "      <td>False</td>\n",
       "      <td>False</td>\n",
       "      <td>False</td>\n",
       "      <td>False</td>\n",
       "    </tr>\n",
       "    <tr>\n",
       "      <th>53</th>\n",
       "      <td>False</td>\n",
       "      <td>False</td>\n",
       "      <td>False</td>\n",
       "      <td>False</td>\n",
       "      <td>False</td>\n",
       "      <td>False</td>\n",
       "    </tr>\n",
       "  </tbody>\n",
       "</table>\n",
       "</div>"
      ],
      "text/plain": [
       "     type  price  mpg_city  drive_train  passengers  weight\n",
       "0   False  False     False        False       False   False\n",
       "1   False  False     False        False       False   False\n",
       "2   False  False     False        False       False   False\n",
       "3   False  False     False        False       False   False\n",
       "4   False  False     False        False       False   False\n",
       "5   False  False     False        False       False   False\n",
       "6   False  False     False        False       False   False\n",
       "7   False  False     False        False       False   False\n",
       "8   False  False     False        False       False   False\n",
       "9   False  False     False        False       False   False\n",
       "10  False  False     False        False       False   False\n",
       "11  False  False     False        False       False   False\n",
       "12  False  False     False        False       False   False\n",
       "13  False  False     False        False       False   False\n",
       "14  False  False     False        False       False   False\n",
       "15  False  False     False        False       False   False\n",
       "16  False  False     False        False       False   False\n",
       "17  False  False     False        False       False   False\n",
       "18  False  False     False        False       False   False\n",
       "19  False  False     False        False       False   False\n",
       "20  False  False     False        False       False   False\n",
       "21  False  False     False        False       False   False\n",
       "22  False  False     False        False       False   False\n",
       "23  False  False     False        False       False   False\n",
       "24  False  False     False        False       False   False\n",
       "25  False  False     False        False       False   False\n",
       "26  False  False     False        False       False   False\n",
       "27  False  False     False        False       False   False\n",
       "28  False  False     False        False       False   False\n",
       "29  False  False     False        False       False   False\n",
       "30  False  False     False        False       False   False\n",
       "31  False  False     False        False       False   False\n",
       "32  False  False     False        False       False   False\n",
       "33  False  False     False        False       False   False\n",
       "34  False  False     False        False       False   False\n",
       "35  False  False     False        False       False   False\n",
       "36  False  False     False        False       False   False\n",
       "37  False  False     False        False       False   False\n",
       "38  False  False     False        False       False   False\n",
       "39  False  False     False        False       False   False\n",
       "40  False  False     False        False       False   False\n",
       "41  False  False     False        False       False   False\n",
       "42  False  False     False        False       False   False\n",
       "43  False  False     False        False       False   False\n",
       "44  False  False     False        False       False   False\n",
       "45  False  False     False        False       False   False\n",
       "46  False  False     False        False       False   False\n",
       "47  False  False     False        False       False   False\n",
       "48  False  False     False        False       False   False\n",
       "49  False  False     False        False       False   False\n",
       "50  False  False     False        False       False   False\n",
       "51  False  False     False        False       False   False\n",
       "52  False  False     False        False       False   False\n",
       "53  False  False     False        False       False   False"
      ]
     },
     "execution_count": 329,
     "metadata": {},
     "output_type": "execute_result"
    }
   ],
   "source": [
    "data.isnull()"
   ]
  },
  {
   "cell_type": "code",
   "execution_count": 330,
   "id": "812fc49c",
   "metadata": {},
   "outputs": [
    {
     "name": "stdout",
     "output_type": "stream",
     "text": [
      "The unique types of cars are ['small' 'midsize' 'large']\n"
     ]
    }
   ],
   "source": [
    "print(\"The unique types of cars are\",data['type'].unique())"
   ]
  },
  {
   "cell_type": "code",
   "execution_count": 331,
   "id": "6476f69f",
   "metadata": {},
   "outputs": [
    {
     "name": "stdout",
     "output_type": "stream",
     "text": [
      "Subset of data containing only 'midsize' cars.\n",
      "          price  mpg_city drive_train  passengers  weight\n",
      "type                                                    \n",
      "midsize   33.9        18       front           5    3560\n",
      "midsize   37.7        19       front           6    3405\n",
      "midsize   30.0        22        rear           4    3640\n",
      "midsize   15.7        22       front           6    2880\n",
      "midsize   26.3        19       front           5    3495\n",
      "midsize   40.1        16       front           5    3935\n",
      "midsize   15.9        21       front           6    3195\n",
      "midsize   15.6        21       front           6    3080\n",
      "midsize   20.2        21       front           5    3325\n",
      "midsize   13.9        20       front           5    2885\n",
      "midsize   47.9        17        rear           5    4000\n",
      "midsize   28.0        18       front           5    3510\n",
      "midsize   35.2        18        rear           4    3515\n",
      "midsize   34.3        17       front           6    3695\n",
      "midsize   61.9        19        rear           5    3525\n",
      "midsize   14.9        19        rear           5    3610\n",
      "midsize   26.1        18       front           5    3730\n",
      "midsize   21.5        21       front           5    3200\n",
      "midsize   16.3        23       front           5    2890\n",
      "midsize   18.5        19       front           5    3450\n",
      "midsize   18.2        22       front           5    3030\n",
      "midsize   26.7        20       front           5    3245\n"
     ]
    }
   ],
   "source": [
    "data1 = data.set_index(\"type\")\n",
    "result = data1.loc[\"midsize\"]\n",
    "print(\"Subset of data containing only 'midsize' cars.\\n\",result)"
   ]
  },
  {
   "cell_type": "code",
   "execution_count": 332,
   "id": "d24ebabf",
   "metadata": {},
   "outputs": [
    {
     "name": "stdout",
     "output_type": "stream",
     "text": [
      "Grouping the dataset by 'type' and finding the average 'price' for each type.\n",
      " type\n",
      "large      24.300000\n",
      "midsize    27.218182\n",
      "small      10.166667\n",
      "Name: price, dtype: float64\n"
     ]
    }
   ],
   "source": [
    "q=data.groupby([\"type\"])['price'].mean()\n",
    "print(\"Grouping the dataset by 'type' and finding the average 'price' for each type.\\n\",q)"
   ]
  },
  {
   "cell_type": "code",
   "execution_count": 333,
   "id": "444df3fe",
   "metadata": {},
   "outputs": [
    {
     "data": {
      "text/plain": [
       "<Figure size 1000x600 with 0 Axes>"
      ]
     },
     "metadata": {},
     "output_type": "display_data"
    },
    {
     "data": {
      "image/png": "[encoded data removed]",
      "text/plain": [
       "<Figure size 640x480 with 1 Axes>"
      ]
     },
     "metadata": {},
     "output_type": "display_data"
    }
   ],
   "source": [
    "average = data.groupby([\"type\"]).mean()\n",
    "new = average[['mpg_city']]\n",
    "car_type = new\n",
    "plt.figure(figsize=(10, 6))\n",
    "car_type.plot(kind=\"bar\", color=\"red\")\n",
    "plt.title(\"Bar plot showing the average Miles per gallon in the city for each car type\")\n",
    "plt.xlabel(\"Type\")\n",
    "plt.ylabel(\"Average Miles per gallon\")\n",
    "plt.grid(axis=\"y\")\n",
    "plt.show()"
   ]
  },
  {
   "cell_type": "code",
   "execution_count": 334,
   "id": "a621e3a0",
   "metadata": {},
   "outputs": [
    {
     "name": "stdout",
     "output_type": "stream",
     "text": [
      "All the cars that are 'small' type and have a price less than $20,000\n",
      "      type  price  mpg_city drive_train  passengers  weight\n",
      "0   small   15.9        25       front           5    2705\n",
      "14  small    9.2        29       front           5    2270\n",
      "15  small   11.3        23       front           5    2670\n",
      "17  small   12.2        29       front           5    2295\n",
      "19  small    7.4        31       front           4    1845\n",
      "20  small   10.1        23       front           5    2530\n",
      "23  small    8.4        46       front           4    1695\n",
      "24  small   12.1        42       front           4    2350\n",
      "25  small    8.0        29       front           5    2345\n",
      "26  small   10.0        22       front           5    2620\n",
      "33  small    8.3        29       front           4    2325\n",
      "34  small   11.6        28       front           5    2440\n",
      "37  small   10.3        29       front           5    2295\n",
      "39  small   11.8        29       front           5    2545\n",
      "43  small    9.0        31       front           4    2350\n",
      "46  small   11.1        28       front           5    2495\n",
      "47  small    8.4        33         4WD           4    2045\n",
      "48  small   10.9        25         4WD           5    2490\n",
      "49  small    8.6        39       front           4    1965\n",
      "50  small    9.8        32       front           5    2055\n",
      "52  small    9.1        25       front           4    2240\n"
     ]
    }
   ],
   "source": [
    "data =pd.read_csv(\"cars.csv\")\n",
    "w=data.loc[(data.type ==\"small\")&(data.price<20)]\n",
    "print(\"All the cars that are 'small' type and have a price less than $20,000\\n\",w)"
   ]
  },
  {
   "cell_type": "code",
   "execution_count": 335,
   "id": "51456378",
   "metadata": {},
   "outputs": [
    {
     "name": "stdout",
     "output_type": "stream",
     "text": [
      "The dataset in descending order by 'weight'\n",
      "        type  price  mpg_city drive_train  passengers  weight\n",
      "6     large   23.7        16        rear           6    4105\n",
      "32    large   36.1        18        rear           6    4055\n",
      "28  midsize   47.9        17        rear           5    4000\n",
      "22    large   20.9        18        rear           6    3950\n",
      "9   midsize   40.1        16       front           5    3935\n",
      "11    large   18.8        17        rear           6    3910\n",
      "38  midsize   26.1        18       front           5    3730\n",
      "31  midsize   34.3        17       front           6    3695\n",
      "3   midsize   30.0        22        rear           4    3640\n",
      "8     large   34.7        16       front           6    3620\n",
      "36  midsize   14.9        19        rear           5    3610\n",
      "13    large   29.5        20       front           6    3570\n",
      "1   midsize   33.9        18       front           5    3560\n",
      "35  midsize   61.9        19        rear           5    3525\n",
      "12    large   18.4        20       front           6    3515\n",
      "30  midsize   35.2        18        rear           4    3515\n",
      "29  midsize   28.0        18       front           5    3510\n",
      "7   midsize   26.3        19       front           5    3495\n",
      "45    large   24.4        19       front           6    3495\n",
      "18    large   19.3        20       front           6    3490\n",
      "5     large   20.8        19       front           6    3470\n",
      "42    large   20.7        19       front           6    3470\n",
      "44  midsize   18.5        19       front           5    3450\n",
      "2   midsize   37.7        19       front           6    3405\n",
      "21  midsize   20.2        21       front           5    3325\n",
      "53  midsize   26.7        20       front           5    3245\n",
      "40  midsize   21.5        21       front           5    3200\n",
      "10  midsize   15.9        21       front           6    3195\n",
      "16  midsize   15.6        21       front           6    3080\n",
      "51  midsize   18.2        22       front           5    3030\n",
      "41  midsize   16.3        23       front           5    2890\n",
      "27  midsize   13.9        20       front           5    2885\n",
      "4   midsize   15.7        22       front           6    2880\n",
      "0     small   15.9        25       front           5    2705\n",
      "15    small   11.3        23       front           5    2670\n",
      "26    small   10.0        22       front           5    2620\n",
      "39    small   11.8        29       front           5    2545\n",
      "20    small   10.1        23       front           5    2530\n",
      "46    small   11.1        28       front           5    2495\n",
      "48    small   10.9        25         4WD           5    2490\n",
      "34    small   11.6        28       front           5    2440\n",
      "24    small   12.1        42       front           4    2350\n",
      "43    small    9.0        31       front           4    2350\n",
      "25    small    8.0        29       front           5    2345\n",
      "33    small    8.3        29       front           4    2325\n",
      "37    small   10.3        29       front           5    2295\n",
      "17    small   12.2        29       front           5    2295\n",
      "14    small    9.2        29       front           5    2270\n",
      "52    small    9.1        25       front           4    2240\n",
      "50    small    9.8        32       front           5    2055\n",
      "47    small    8.4        33         4WD           4    2045\n",
      "49    small    8.6        39       front           4    1965\n",
      "19    small    7.4        31       front           4    1845\n",
      "23    small    8.4        46       front           4    1695\n"
     ]
    }
   ],
   "source": [
    "r=data=data.sort_values(['weight'],ascending=0)\n",
    "print(\"The dataset in descending order by 'weight'\\n\", r)"
   ]
  },
  {
   "cell_type": "code",
   "execution_count": 336,
   "id": "cb744406",
   "metadata": {},
   "outputs": [
    {
     "name": "stdout",
     "output_type": "stream",
     "text": [
      "Adding the column of 'weight in kgs' \n",
      "        type  price  mpg_city drive_train  passengers  weight  Weight in kgs\n",
      "6     large   23.7        16        rear           6    4105     1861.99516\n",
      "32    large   36.1        18        rear           6    4055     1839.31556\n",
      "28  midsize   47.9        17        rear           5    4000     1814.36800\n",
      "22    large   20.9        18        rear           6    3950     1791.68840\n",
      "9   midsize   40.1        16       front           5    3935     1784.88452\n",
      "11    large   18.8        17        rear           6    3910     1773.54472\n",
      "38  midsize   26.1        18       front           5    3730     1691.89816\n",
      "31  midsize   34.3        17       front           6    3695     1676.02244\n",
      "3   midsize   30.0        22        rear           4    3640     1651.07488\n",
      "8     large   34.7        16       front           6    3620     1642.00304\n",
      "36  midsize   14.9        19        rear           5    3610     1637.46712\n",
      "13    large   29.5        20       front           6    3570     1619.32344\n",
      "1   midsize   33.9        18       front           5    3560     1614.78752\n",
      "35  midsize   61.9        19        rear           5    3525     1598.91180\n",
      "12    large   18.4        20       front           6    3515     1594.37588\n",
      "30  midsize   35.2        18        rear           4    3515     1594.37588\n",
      "29  midsize   28.0        18       front           5    3510     1592.10792\n",
      "7   midsize   26.3        19       front           5    3495     1585.30404\n",
      "45    large   24.4        19       front           6    3495     1585.30404\n",
      "18    large   19.3        20       front           6    3490     1583.03608\n",
      "5     large   20.8        19       front           6    3470     1573.96424\n",
      "42    large   20.7        19       front           6    3470     1573.96424\n",
      "44  midsize   18.5        19       front           5    3450     1564.89240\n",
      "2   midsize   37.7        19       front           6    3405     1544.48076\n",
      "21  midsize   20.2        21       front           5    3325     1508.19340\n",
      "53  midsize   26.7        20       front           5    3245     1471.90604\n",
      "40  midsize   21.5        21       front           5    3200     1451.49440\n",
      "10  midsize   15.9        21       front           6    3195     1449.22644\n",
      "16  midsize   15.6        21       front           6    3080     1397.06336\n",
      "51  midsize   18.2        22       front           5    3030     1374.38376\n",
      "41  midsize   16.3        23       front           5    2890     1310.88088\n",
      "27  midsize   13.9        20       front           5    2885     1308.61292\n",
      "4   midsize   15.7        22       front           6    2880     1306.34496\n",
      "0     small   15.9        25       front           5    2705     1226.96636\n",
      "15    small   11.3        23       front           5    2670     1211.09064\n",
      "26    small   10.0        22       front           5    2620     1188.41104\n",
      "39    small   11.8        29       front           5    2545     1154.39164\n",
      "20    small   10.1        23       front           5    2530     1147.58776\n",
      "46    small   11.1        28       front           5    2495     1131.71204\n",
      "48    small   10.9        25         4WD           5    2490     1129.44408\n",
      "34    small   11.6        28       front           5    2440     1106.76448\n",
      "24    small   12.1        42       front           4    2350     1065.94120\n",
      "43    small    9.0        31       front           4    2350     1065.94120\n",
      "25    small    8.0        29       front           5    2345     1063.67324\n",
      "33    small    8.3        29       front           4    2325     1054.60140\n",
      "37    small   10.3        29       front           5    2295     1040.99364\n",
      "17    small   12.2        29       front           5    2295     1040.99364\n",
      "14    small    9.2        29       front           5    2270     1029.65384\n",
      "52    small    9.1        25       front           4    2240     1016.04608\n",
      "50    small    9.8        32       front           5    2055      932.13156\n",
      "47    small    8.4        33         4WD           4    2045      927.59564\n",
      "49    small    8.6        39       front           4    1965      891.30828\n",
      "19    small    7.4        31       front           4    1845      836.87724\n",
      "23    small    8.4        46       front           4    1695      768.83844\n"
     ]
    }
   ],
   "source": [
    "data[\"Weight in kgs\"] = (data[\"weight\"] *0.453592)\n",
    "print(\"Adding the column of 'weight in kgs' \\n\", data)"
   ]
  },
  {
   "cell_type": "code",
   "execution_count": 337,
   "id": "adf2e17f",
   "metadata": {},
   "outputs": [
    {
     "name": "stdout",
     "output_type": "stream",
     "text": [
      "The sum of all passengers in a dataset is 276\n"
     ]
    }
   ],
   "source": [
    "s=data[\"passengers\"].sum()\n",
    "print(\"The sum of all passengers in a dataset is\",s)"
   ]
  },
  {
   "cell_type": "code",
   "execution_count": 338,
   "id": "452f3e46",
   "metadata": {},
   "outputs": [
    {
     "name": "stdout",
     "output_type": "stream",
     "text": [
      "The correlation matrix comes out to be\n",
      "                price  mpg_city  passengers    weight\n",
      "price       1.000000 -0.636845    0.308437  0.758112\n",
      "mpg_city   -0.636845  1.000000   -0.634000 -0.876918\n",
      "passengers  0.308437 -0.634000    1.000000  0.610437\n",
      "weight      0.758112 -0.876918    0.610437  1.000000\n"
     ]
    }
   ],
   "source": [
    "correlation_data = data[[\"price\",\"mpg_city\",\"passengers\",\"weight\"]]\n",
    "corr_matrix = correlation_data.corr()\n",
    "print(\"The correlation matrix comes out to be\\n\",corr_matrix)"
   ]
  },
  {
   "cell_type": "code",
   "execution_count": 339,
   "id": "5089b7f1",
   "metadata": {},
   "outputs": [
    {
     "data": {
      "image/png": "[encoded data removed]",
      "text/plain": [
       "<Figure size 640x480 with 1 Axes>"
      ]
     },
     "metadata": {},
     "output_type": "display_data"
    }
   ],
   "source": [
    "x=data[[\"price\"]]\n",
    "plt.title(\"Histogram of price by number of cars\")\n",
    "plt.xlabel(\"Price in thousands of dollars\")\n",
    "plt.ylabel(\"Number of cars\")\n",
    "plt.hist(x)\n",
    "plt.grid(axis=\"y\")\n",
    "plt.show() "
   ]
  },
  {
   "cell_type": "code",
   "execution_count": 340,
   "id": "38151f1b",
   "metadata": {},
   "outputs": [
    {
     "data": {
      "text/plain": [
       "[Text(0.5, 0, 'Type of Cars'),\n",
       " Text(0, 0.5, 'Average Price in thousands of dollars')]"
      ]
     },
     "execution_count": 340,
     "metadata": {},
     "output_type": "execute_result"
    },
    {
     "data": {
      "image/png": "[encoded data removed]",
      "text/plain": [
       "<Figure size 640x480 with 2 Axes>"
      ]
     },
     "metadata": {},
     "output_type": "display_data"
    }
   ],
   "source": [
    "ndf = data.groupby(['type']).mean()\n",
    "fig, ((ax1, ax2)) = plt.subplots(1,2)\n",
    "fig.suptitle('Two SubPlots in a Single Row')\n",
    "\n",
    "\n",
    "y1=ndf[\"price\"]\n",
    "z=data['type'].unique()\n",
    "newz = z[::-1]\n",
    "ax2.bar(newz, y1,color='purple')\n",
    "x33=data[\"weight\"]\n",
    "ax1.hist(x33)\n",
    "\n",
    "ax2.set_title('Bar plot of average price by type ',fontsize = 10)\n",
    "ax2.grid(axis=\"y\")\n",
    "ax1.set_title('Histogram of weight ',fontsize = 10)\n",
    "ax1.grid(axis=\"y\")\n",
    "ax1.set(xlabel='Weight of a cars', ylabel='Number of a cars')\n",
    "ax2.set(xlabel='Type of Cars', ylabel='Average Price in thousands of dollars')"
   ]
  },
  {
   "cell_type": "code",
   "execution_count": 341,
   "id": "e27dd025",
   "metadata": {},
   "outputs": [
    {
     "name": "stdout",
     "output_type": "stream",
     "text": [
      "All 'midsize' cars with a 'mpg_city' greater than 20 and a price less than $30,000.\n",
      "        type  price  mpg_city drive_train  passengers  weight  Weight in kgs\n",
      "21  midsize   20.2        21       front           5    3325     1508.19340\n",
      "40  midsize   21.5        21       front           5    3200     1451.49440\n",
      "10  midsize   15.9        21       front           6    3195     1449.22644\n",
      "16  midsize   15.6        21       front           6    3080     1397.06336\n",
      "51  midsize   18.2        22       front           5    3030     1374.38376\n",
      "41  midsize   16.3        23       front           5    2890     1310.88088\n",
      "4   midsize   15.7        22       front           6    2880     1306.34496\n"
     ]
    }
   ],
   "source": [
    "rr=data.loc[(data.type ==\"midsize\")&(data.mpg_city>20) &(data.price<30)]\n",
    "print(\"All 'midsize' cars with a 'mpg_city' greater than 20 and a price less than $30,000.\\n\",rr)"
   ]
  },
  {
   "cell_type": "code",
   "execution_count": 342,
   "id": "2e601e32",
   "metadata": {},
   "outputs": [
    {
     "data": {
      "image/png": "[encoded data removed]",
      "text/plain": [
       "<Figure size 1000x600 with 1 Axes>"
      ]
     },
     "metadata": {},
     "output_type": "display_data"
    }
   ],
   "source": [
    "small=data.loc[(data.type ==\"small\")]\n",
    "plt.figure(figsize=(10, 6))\n",
    "plt.scatter(small[\"mpg_city\"], small[\"price\"],alpha=0.5, color=\"Purple\")\n",
    "midsize=data.loc[(data.type ==\"midsize\")]\n",
    "plt.scatter(midsize[\"mpg_city\"], midsize[\"price\"],alpha=0.5, color=\"Red\")\n",
    "large=data.loc[(data.type ==\"large\")]\n",
    "plt.scatter(large[\"mpg_city\"], large[\"price\"],alpha=0.5, color=\"Green\")\n",
    "plt.title(\"Scatter Plot Between Price and Miles Per Gallon\")\n",
    "plt.ylabel(\"Price in thousands of dollars\")\n",
    "plt.xlabel(\"Miles Per Gallon\")\n",
    "plt.legend(['small',\"midsize\",\"large\"])\n",
    "plt.grid(True)\n",
    "plt.show()"
   ]
  },
  {
   "cell_type": "code",
   "execution_count": 343,
   "id": "b92af2a9",
   "metadata": {},
   "outputs": [
    {
     "name": "stdout",
     "output_type": "stream",
     "text": [
      "                         price   mpg_city  passengers       weight  \\\n",
      "type    drive_train                                                  \n",
      "large   front        23.971429  19.000000    6.000000  3518.571429   \n",
      "        rear         24.875000  17.250000    6.000000  4005.000000   \n",
      "midsize front        24.052941  19.705882    5.294118  3324.117647   \n",
      "        rear         37.980000  19.000000    4.600000  3658.000000   \n",
      "small   4WD           9.650000  29.000000    4.500000  2267.500000   \n",
      "        front        10.221053  29.947368    4.631579  2317.631579   \n",
      "\n",
      "                     Weight in kgs  \n",
      "type    drive_train                 \n",
      "large   front          1595.995851  \n",
      "        rear           1816.635960  \n",
      "midsize front          1507.793172  \n",
      "        rear           1659.239536  \n",
      "small   4WD            1028.519860  \n",
      "        front          1051.259143  \n",
      "The value of price in 'type' large and front drive_train car is \n",
      " 23.97142857142857\n"
     ]
    }
   ],
   "source": [
    "data=data.groupby(['type','drive_train']).mean()\n",
    "print(data)\n",
    "w=data.loc[('large','front'),\"price\"]\n",
    "print(\"The value of price in 'type' large and front drive_train car is \\n\",w)"
   ]
  },
  {
   "cell_type": "code",
   "execution_count": 344,
   "id": "1f571a8c",
   "metadata": {},
   "outputs": [
    {
     "name": "stdout",
     "output_type": "stream",
     "text": [
      "The value of nulls are replaced by N/A\n",
      "       type price  mpg_city drive_train passengers      weight\n",
      "0    small  15.9        25       front     2705.0  1226.96636\n",
      "1  midsize  33.9        18       front        N/A  1614.78752\n",
      "2  midsize   N/A        19       front     3405.0  1544.48076\n",
      "3  midsize   N/A        22        rear        N/A  1651.07488\n",
      "4  midsize  15.7        22       front     2880.0  1306.34496\n"
     ]
    }
   ],
   "source": [
    "#Method 1\n",
    "dict = {'type':['small', 'midsize', 'midsize', 'midsize','midsize'], \n",
    "        'price': [15.9, 33.9, np.nan, np.nan, 15.7 ], \n",
    "        'mpg_city':[25, 18, 19, 22, 22],\n",
    "        'drive_train':['front','front','front','rear','front'],\n",
    "        'passengers':[2705, np.nan, 3405, np.nan, 2880],\n",
    "        'weight':[1226.96636, 1614.78752, 1544.48076, 1651.07488, 1306.34496]} \n",
    "newdata = pd.DataFrame(dict)  \n",
    "p=newdata.fillna(\"N/A\")\n",
    "print(\"The value of nulls are replaced by N/A\\n\",p)"
   ]
  },
  {
   "cell_type": "code",
   "execution_count": 345,
   "id": "77f79353",
   "metadata": {},
   "outputs": [
    {
     "name": "stdout",
     "output_type": "stream",
     "text": [
      "Rows with null values are dropped \n",
      "       type  price  mpg_city drive_train  passengers      weight\n",
      "0    small   15.9        25       front      2705.0  1226.96636\n",
      "4  midsize   15.7        22       front      2880.0  1306.34496\n"
     ]
    }
   ],
   "source": [
    "#Method 2\n",
    "dict = {'type':['small', 'midsize', 'midsize', 'midsize','midsize'], \n",
    "        'price': [15.9, 33.9, np.nan, np.nan, 15.7 ], \n",
    "        'mpg_city':[25, 18, 19, 22, 22],\n",
    "        'drive_train':['front','front','front','rear','front'],\n",
    "        'passengers':[2705, np.nan, 3405, np.nan, 2880],\n",
    "        'weight':[1226.96636, 1614.78752, 1544.48076, 1651.07488, 1306.34496]} \n",
    "newdata2 = pd.DataFrame(dict)\n",
    "d=newdata2.dropna()\n",
    "print(\"Rows with null values are dropped \\n\",d)"
   ]
  },
  {
   "cell_type": "code",
   "execution_count": 346,
   "id": "5d89866e",
   "metadata": {},
   "outputs": [
    {
     "data": {
      "image/png": "[encoded data removed]",
      "text/plain": [
       "<Figure size 1200x800 with 1 Axes>"
      ]
     },
     "metadata": {},
     "output_type": "display_data"
    }
   ],
   "source": [
    "data=pd.read_csv(\"cars.csv\")\n",
    "ndf = data.groupby(['type','drive_train']).size().unstack(fill_value=0)\n",
    "plt.figure(figsize=(12, 8))\n",
    "ndf.plot(kind=\"bar\", stacked=True,colormap=\"viridis\", ax=plt.gca())\n",
    "plt.title(\"Count Of Cars By Type For Each Drive Train Category\")\n",
    "plt.xlabel(\"Type Of Cars\")\n",
    "plt.ylabel(\"Count Of Cars\")\n",
    "plt.legend(title=\"Drive Train\", bbox_to_anchor=(1.05, 1),loc=\"upper left\")\n",
    "plt.grid(axis=\"y\")\n",
    "plt.tight_layout()\n",
    "plt.show()"
   ]
  },
  {
   "cell_type": "code",
   "execution_count": 347,
   "id": "aa964f4c",
   "metadata": {},
   "outputs": [
    {
     "data": {
      "text/plain": [
       "[Text(0.5, 0, 'Car Type'), Text(0, 0.5, 'Average price of a car')]"
      ]
     },
     "execution_count": 347,
     "metadata": {},
     "output_type": "execute_result"
    },
    {
     "data": {
      "image/png": "[encoded data removed]",
      "text/plain": [
       "<Figure size 640x480 with 3 Axes>"
      ]
     },
     "metadata": {},
     "output_type": "display_data"
    }
   ],
   "source": [
    "data = pd.read_csv(\"C:/Users/HP/Downloads/cars.csv\")\n",
    "ndf = data.groupby(['type']).mean()\n",
    "\n",
    "\n",
    "fig, ((ax1, ax2, ax3)) = plt.subplots(1,3)\n",
    "fig.suptitle('Multiple SubPlots in a Single Row')\n",
    "\n",
    "\n",
    "x1=ndf[[\"weight\"]]\n",
    "y1=ndf[[\"mpg_city\"]]\n",
    "ax1.plot(x1, y1)\n",
    "\n",
    "x33=data[[\"drive_train\"]]\n",
    "ax2.hist(x33)\n",
    "\n",
    "z=data['type'].unique()\n",
    "newz = z[::-1]\n",
    "we=ndf['price']\n",
    "ax3.bar(newz,we, color=\"red\")\n",
    "\n",
    "plt.title(\"Bar plot of average price by each type of car\")\n",
    "\n",
    "ax1.set_title('Plot of Avg weight vs avg mileage of a car ',fontsize = 6)\n",
    "ax1.grid(axis=\"y\")\n",
    "ax2.set_title('Histogram of various drivetypes of a car ',fontsize = 6)\n",
    "ax2.grid(axis=\"y\")\n",
    "ax3.set_title('Bar Chart of Type vs avg price of a car ',fontsize = 6)\n",
    "ax3.grid(axis=\"y\")\n",
    "\n",
    "ax1.set(xlabel='Average weight of a car', ylabel='Average mileage of a car')\n",
    "ax2.set(xlabel='Drive Type', ylabel='Number of cars')\n",
    "ax3.set(xlabel='Car Type', ylabel='Average price of a car')\n",
    "\n",
    "\n"
   ]
  }
 ],
 "metadata": {
  "kernelspec": {
   "display_name": "Python 3 (ipykernel)",
   "language": "python",
   "name": "python3"
  },
  "language_info": {
   "codemirror_mode": {
    "name": "ipython",
    "version": 3
   },
   "file_extension": ".py",
   "mimetype": "text/x-python",
   "name": "python",
   "nbconvert_exporter": "python",
   "pygments_lexer": "ipython3",
   "version": "3.9.13"
  }
 },
 "nbformat": 4,
 "nbformat_minor": 5
}
